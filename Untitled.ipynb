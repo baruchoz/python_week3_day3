{
 "cells": [
  {
   "cell_type": "code",
   "execution_count": 57,
   "id": "4104f224",
   "metadata": {},
   "outputs": [],
   "source": [
    "def include(arr,item):\n",
    "    if arr == item:\n",
    "        return True\n",
    "    else:\n",
    "        return False"
   ]
  }
 ],
 "metadata": {
  "kernelspec": {
   "display_name": "Python 3",
   "language": "python",
   "name": "python3"
  },
  "language_info": {
   "codemirror_mode": {
    "name": "ipython",
    "version": 3
   },
   "file_extension": ".py",
   "mimetype": "text/x-python",
   "name": "python",
   "nbconvert_exporter": "python",
   "pygments_lexer": "ipython3",
   "version": "3.8.8"
  }
 },
 "nbformat": 4,
 "nbformat_minor": 5
}
