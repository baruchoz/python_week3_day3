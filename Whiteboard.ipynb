{
 "cells": [
  {
   "cell_type": "markdown",
   "id": "b57650dd",
   "metadata": {},
   "source": [
    "Given a string s, find the first non-repeating character in it and return its index. If it does not exist, return -1\n",
    "\n",
    "ex.1\n",
    "Input: s = \"leetcode\"\n",
    "Output: 0\n",
    "\n",
    "ex.2\n",
    "Input: s = \"loveleetcode\"\n",
    "Output: 2\n",
    "\n",
    "ex.3\n",
    "Input: s = \"aabb\"\n",
    "Output: -1"
   ]
  },
  {
   "cell_type": "code",
   "execution_count": null,
   "id": "0ff35dc6",
   "metadata": {},
   "outputs": [],
   "source": [
    "string = \"loveleetcode\"\n",
    "\n",
    "def test_string(string):\n",
    "    for x in string:\n",
    "        if string.count(x) == 1:\n",
    "            return string.index(x)\n",
    "    \n",
    "    return -1\n",
    "\n",
    "print(test_string(string))"
   ]
  },
  {
   "cell_type": "code",
   "execution_count": null,
   "id": "3cf529c4",
   "metadata": {},
   "outputs": [],
   "source": []
  }
 ],
 "metadata": {
  "kernelspec": {
   "display_name": "Python 3",
   "language": "python",
   "name": "python3"
  },
  "language_info": {
   "codemirror_mode": {
    "name": "ipython",
    "version": 3
   },
   "file_extension": ".py",
   "mimetype": "text/x-python",
   "name": "python",
   "nbconvert_exporter": "python",
   "pygments_lexer": "ipython3",
   "version": "3.8.8"
  }
 },
 "nbformat": 4,
 "nbformat_minor": 5
}
